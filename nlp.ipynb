{
 "cells": [
  {
   "attachments": {},
   "cell_type": "markdown",
   "metadata": {},
   "source": [
    "# NLP with tips of restaurant business"
   ]
  },
  {
   "attachments": {},
   "cell_type": "markdown",
   "metadata": {},
   "source": [
    "references:\n",
    "\n",
    "https://www.kirenz.com/post/2021-12-11-text-mining-and-sentiment-analysis-with-nltk-and-pandas-in-python/text-mining-and-sentiment-analysis-with-nltk-and-pandas-in-python/\n",
    "\n",
    "https://blog.ekbana.com/pre-processing-text-in-python-ad13ea544dae"
   ]
  },
  {
   "cell_type": "code",
   "execution_count": 47,
   "metadata": {},
   "outputs": [],
   "source": [
    "from google.cloud import bigquery\n",
    "from google.oauth2 import service_account\n",
    "import pandas as pd\n",
    "import os\n",
    "import nltk"
   ]
  },
  {
   "cell_type": "code",
   "execution_count": 59,
   "metadata": {},
   "outputs": [],
   "source": [
    "PROJECT_ID = \"yelp-data-warehouse\"\n",
    "DATASET_ID = \"yelp_dataset\"\n",
    "TIPS_TABLE_ID = \"yelp_tips\"\n",
    "\n",
    "GOOGLE_APPLICATION_CREDENTIALS = 'path/to/key.json'\n",
    "\n",
    "client = bigquery.Client.from_service_account_json(GOOGLE_APPLICATION_CREDENTIALS,project = PROJECT_ID)"
   ]
  },
  {
   "attachments": {},
   "cell_type": "markdown",
   "metadata": {},
   "source": [
    "TIPS TABLE attributes: 'text', 'names' (business name), 'business_id', 'user_id'"
   ]
  },
  {
   "cell_type": "code",
   "execution_count": 42,
   "metadata": {},
   "outputs": [],
   "source": [
    "from nltk.corpus import stopwords\n",
    "from nltk.tokenize import RegexpTokenizer\n",
    "from nltk.sentiment import SentimentIntensityAnalyzer\n",
    "from nltk.stem import WordNetLemmatizer\n",
    "\n",
    "# Make a list of english stopwords\n",
    "stopwords = nltk.corpus.stopwords.words(\"english\")\n",
    "\n",
    "regexp = RegexpTokenizer('\\w+')\n",
    "\n",
    "analyzer = SentimentIntensityAnalyzer()\n",
    "\n",
    "wordnet_lemmatizer = WordNetLemmatizer()"
   ]
  },
  {
   "cell_type": "code",
   "execution_count": null,
   "metadata": {},
   "outputs": [],
   "source": [
    "# nltk.download('wordnet')\n",
    "# nltk.download('omw-1.4')"
   ]
  },
  {
   "attachments": {},
   "cell_type": "markdown",
   "metadata": {},
   "source": [
    "### 1. Given a business id, output the score for all the tips tied to this business"
   ]
  },
  {
   "cell_type": "code",
   "execution_count": 60,
   "metadata": {},
   "outputs": [],
   "source": [
    "def analyse_by_biz(business_id):\n",
    "    query = f\"SELECT * FROM {DATASET_ID}.{TIPS_TABLE_ID} WHERE business_id = '{business_id}'\"\n",
    "\n",
    "    print(query)\n",
    "    result_df = client.query(query).to_dataframe()\n",
    "    result_df['text'] = result_df['text'].str.lower()\n",
    "\n",
    "    # Tokenisation, remove any duplicates '\\w+'\n",
    "    result_df['text_token'] = result_df['text'].apply(regexp.tokenize)\n",
    "    \n",
    "    # remove stop words, numbers\n",
    "    result_df['text_token'] = result_df['text_token'].apply(lambda x: [item for item in x if item not in stopwords and not item.isnumeric()])\n",
    "\n",
    "    # lemmatize\n",
    "    result_df['text_lem'] = result_df['text_token'].apply(lambda x: [wordnet_lemmatizer.lemmatize(item) for item in x])\n",
    "    result_df['text_lem'] = result_df['text_lem'].apply(lambda x : \" \".join(x))\n",
    "\n",
    "    # sentiment analysis\n",
    "    result_df['polarity'] = result_df['text_lem'].apply(lambda x: analyzer.polarity_scores(x))\n",
    "\n",
    "    # change dataframe\n",
    "    result_df = pd.concat(\n",
    "        [result_df, \n",
    "         result_df['polarity'].apply(pd.Series)], axis=1)\n",
    "    \n",
    "    result_df['sentiment'] = result_df['compound'].apply(lambda x: 'positive' if x >0 else 'neutral' if x==0 else 'negative')\n",
    "    \n",
    "    print(result_df['sentiment'].value_counts())\n",
    "    # return result_df"
   ]
  },
  {
   "cell_type": "code",
   "execution_count": 61,
   "metadata": {},
   "outputs": [
    {
     "name": "stdout",
     "output_type": "stream",
     "text": [
      "SELECT * FROM yelp_dataset.yelp_tips WHERE business_id = 'sPxAZRMzMsvwO2e8impPBA'\n",
      "neutral     13\n",
      "positive    13\n",
      "negative     3\n",
      "Name: sentiment, dtype: int64\n"
     ]
    }
   ],
   "source": [
    "test_id = 'sPxAZRMzMsvwO2e8impPBA'\n",
    "\n",
    "analyse_by_biz(test_id)"
   ]
  },
  {
   "cell_type": "code",
   "execution_count": null,
   "metadata": {},
   "outputs": [],
   "source": []
  }
 ],
 "metadata": {
  "kernelspec": {
   "display_name": ".venv",
   "language": "python",
   "name": "python3"
  },
  "language_info": {
   "codemirror_mode": {
    "name": "ipython",
    "version": 3
   },
   "file_extension": ".py",
   "mimetype": "text/x-python",
   "name": "python",
   "nbconvert_exporter": "python",
   "pygments_lexer": "ipython3",
   "version": "3.7.8"
  },
  "orig_nbformat": 4
 },
 "nbformat": 4,
 "nbformat_minor": 2
}
