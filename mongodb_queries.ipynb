{
 "cells": [
  {
   "attachments": {},
   "cell_type": "markdown",
   "metadata": {},
   "source": [
    "Installed packages in virtual environment"
   ]
  },
  {
   "cell_type": "code",
   "execution_count": 2,
   "metadata": {},
   "outputs": [],
   "source": [
    "# %pip install pymongo\n",
    "# %pip install pandas\n",
    "# %pip install google-cloud-bigquery"
   ]
  },
  {
   "cell_type": "code",
   "execution_count": 3,
   "metadata": {},
   "outputs": [],
   "source": [
    "import pandas as pd\n",
    "from pymongo import MongoClient\n",
    "# from transformers import pipeline"
   ]
  },
  {
   "attachments": {},
   "cell_type": "markdown",
   "metadata": {},
   "source": [
    "## 1. init connection to database\n",
    "- Create 2 collections: business, reviews\n",
    "- upload json files into their respective collections"
   ]
  },
  {
   "cell_type": "code",
   "execution_count": 2,
   "metadata": {},
   "outputs": [],
   "source": [
    "client = MongoClient()\n",
    "client = MongoClient('localhost', 27017)"
   ]
  },
  {
   "cell_type": "code",
   "execution_count": 3,
   "metadata": {},
   "outputs": [],
   "source": [
    "yelp_db = client[\"Yelp_dataset\"] \n",
    "business_collection = yelp_db['business'] \n",
    "review_collection = yelp_db['reviews']"
   ]
  },
  {
   "attachments": {},
   "cell_type": "markdown",
   "metadata": {},
   "source": [
    "## 2. Initialise tables\n",
    "\n",
    "Currently, we need 4 tables\n",
    "- Business table: { Business_id (PK) , Name , State, City , Stars, Review_count, weighted_review, Categories }\n",
    "- Names table : {Name (PK) , Number of outlets, Average reviews , Total reviews} \n",
    "- Reviews table {Review_id (PK), Business_id (FK), Stars, Text}\n",
    "- Categories table : {Category, Count (number of appearance), score (avg)}\n",
    "\n",
    "\n"
   ]
  },
  {
   "attachments": {},
   "cell_type": "markdown",
   "metadata": {},
   "source": [
    "https://stackoverflow.com/questions/65262832/pre-trained-models-for-text-classification"
   ]
  },
  {
   "cell_type": "code",
   "execution_count": 4,
   "metadata": {},
   "outputs": [
    {
     "name": "stdout",
     "output_type": "stream",
     "text": [
      "{'_id': ObjectId('64109c589bc49fe9c1608aeb'), 'business_id': 'Pns2l4eNsfO8kk83dixA6A', 'name': 'Abby Rappoport, LAC, CMQ', 'address': '1616 Chapala St, Ste 2', 'city': 'Santa Barbara', 'state': 'CA', 'postal_code': '93101', 'latitude': 34.4266787, 'longitude': -119.7111968, 'stars': 5, 'review_count': 7, 'is_open': 0, 'attributes': {'ByAppointmentOnly': 'True'}, 'categories': 'Doctors, Traditional Chinese Medicine, Naturopathic/Holistic, Acupuncture, Health & Medical, Nutritionists', 'hours': None}\n"
     ]
    }
   ],
   "source": [
    "business_df = []\n",
    "for row in business_collection.find():\n",
    "    print(row)\n",
    "    break\n",
    "    cleaned_business = {}\n",
    "    cleaned_business['business_id'] = row['business_id']\n",
    "    cleaned_business['name'] = row['name']\n",
    "    cleaned_business['city'] = row['city']\n",
    "    cleaned_business['state'] = row['state']\n",
    "    cleaned_business['categories'] = row['categories']\n",
    "    cleaned_business['review']\n",
    "    records.append"
   ]
  },
  {
   "cell_type": "code",
   "execution_count": 21,
   "metadata": {},
   "outputs": [],
   "source": [
    "# Output for names table\n",
    "names_record = []\n",
    "for j in business_collection.aggregate([{'$group' : {'_id' : '$name', 'average_review' : {'$avg' : '$stars'}, 'total_reviews' : {'$sum' : '$review_count'},\n",
    "                                                      'number of outlets' : {'$sum' : 1}}},{'$sort' : {'number of outlets' : -1}}]):\n",
    "    names_record.append(j)"
   ]
  },
  {
   "cell_type": "code",
   "execution_count": 22,
   "metadata": {},
   "outputs": [
    {
     "data": {
      "text/html": [
       "<div>\n",
       "<style scoped>\n",
       "    .dataframe tbody tr th:only-of-type {\n",
       "        vertical-align: middle;\n",
       "    }\n",
       "\n",
       "    .dataframe tbody tr th {\n",
       "        vertical-align: top;\n",
       "    }\n",
       "\n",
       "    .dataframe thead th {\n",
       "        text-align: right;\n",
       "    }\n",
       "</style>\n",
       "<table border=\"1\" class=\"dataframe\">\n",
       "  <thead>\n",
       "    <tr style=\"text-align: right;\">\n",
       "      <th></th>\n",
       "      <th>_id</th>\n",
       "      <th>average_review</th>\n",
       "      <th>total_reviews</th>\n",
       "      <th>number of outlets</th>\n",
       "    </tr>\n",
       "  </thead>\n",
       "  <tbody>\n",
       "    <tr>\n",
       "      <th>0</th>\n",
       "      <td>Starbucks</td>\n",
       "      <td>3.126381</td>\n",
       "      <td>20692</td>\n",
       "      <td>724</td>\n",
       "    </tr>\n",
       "    <tr>\n",
       "      <th>1</th>\n",
       "      <td>McDonald's</td>\n",
       "      <td>1.863442</td>\n",
       "      <td>17359</td>\n",
       "      <td>703</td>\n",
       "    </tr>\n",
       "    <tr>\n",
       "      <th>2</th>\n",
       "      <td>Dunkin'</td>\n",
       "      <td>2.302941</td>\n",
       "      <td>9864</td>\n",
       "      <td>510</td>\n",
       "    </tr>\n",
       "    <tr>\n",
       "      <th>3</th>\n",
       "      <td>Subway</td>\n",
       "      <td>2.586057</td>\n",
       "      <td>4123</td>\n",
       "      <td>459</td>\n",
       "    </tr>\n",
       "    <tr>\n",
       "      <th>4</th>\n",
       "      <td>Taco Bell</td>\n",
       "      <td>2.154795</td>\n",
       "      <td>8325</td>\n",
       "      <td>365</td>\n",
       "    </tr>\n",
       "    <tr>\n",
       "      <th>...</th>\n",
       "      <td>...</td>\n",
       "      <td>...</td>\n",
       "      <td>...</td>\n",
       "      <td>...</td>\n",
       "    </tr>\n",
       "    <tr>\n",
       "      <th>114112</th>\n",
       "      <td>Artisano's Oils &amp; Spices</td>\n",
       "      <td>5.000000</td>\n",
       "      <td>38</td>\n",
       "      <td>1</td>\n",
       "    </tr>\n",
       "    <tr>\n",
       "      <th>114113</th>\n",
       "      <td>Twin Oaks Park</td>\n",
       "      <td>5.000000</td>\n",
       "      <td>5</td>\n",
       "      <td>1</td>\n",
       "    </tr>\n",
       "    <tr>\n",
       "      <th>114114</th>\n",
       "      <td>Palm Shadows Apartments</td>\n",
       "      <td>2.000000</td>\n",
       "      <td>6</td>\n",
       "      <td>1</td>\n",
       "    </tr>\n",
       "    <tr>\n",
       "      <th>114115</th>\n",
       "      <td>Stor-Mor Sheds</td>\n",
       "      <td>4.500000</td>\n",
       "      <td>13</td>\n",
       "      <td>1</td>\n",
       "    </tr>\n",
       "    <tr>\n",
       "      <th>114116</th>\n",
       "      <td>Zemam's</td>\n",
       "      <td>4.500000</td>\n",
       "      <td>336</td>\n",
       "      <td>1</td>\n",
       "    </tr>\n",
       "  </tbody>\n",
       "</table>\n",
       "<p>114117 rows × 4 columns</p>\n",
       "</div>"
      ],
      "text/plain": [
       "                             _id  average_review  total_reviews  \\\n",
       "0                      Starbucks        3.126381          20692   \n",
       "1                     McDonald's        1.863442          17359   \n",
       "2                        Dunkin'        2.302941           9864   \n",
       "3                         Subway        2.586057           4123   \n",
       "4                      Taco Bell        2.154795           8325   \n",
       "...                          ...             ...            ...   \n",
       "114112  Artisano's Oils & Spices        5.000000             38   \n",
       "114113            Twin Oaks Park        5.000000              5   \n",
       "114114   Palm Shadows Apartments        2.000000              6   \n",
       "114115            Stor-Mor Sheds        4.500000             13   \n",
       "114116                   Zemam's        4.500000            336   \n",
       "\n",
       "        number of outlets  \n",
       "0                     724  \n",
       "1                     703  \n",
       "2                     510  \n",
       "3                     459  \n",
       "4                     365  \n",
       "...                   ...  \n",
       "114112                  1  \n",
       "114113                  1  \n",
       "114114                  1  \n",
       "114115                  1  \n",
       "114116                  1  \n",
       "\n",
       "[114117 rows x 4 columns]"
      ]
     },
     "execution_count": 22,
     "metadata": {},
     "output_type": "execute_result"
    }
   ],
   "source": [
    "names_df = pd.DataFrame(\n",
    "    names_record,\n",
    "    # In the loaded table, the column order reflects the order of the\n",
    "    # columns in the DataFrame.\n",
    "    columns=[\n",
    "        \"_id\",\n",
    "        \"average_review\",\n",
    "        \"total_reviews\",\n",
    "        \"number of outlets\",\n",
    "    ])\n",
    "names_df"
   ]
  },
  {
   "attachments": {},
   "cell_type": "markdown",
   "metadata": {},
   "source": [
    "## 3. Load data into warehouse\n",
    "https://cloud.google.com/bigquery/docs/samples/bigquery-load-table-dataframe "
   ]
  },
  {
   "cell_type": "code",
   "execution_count": 6,
   "metadata": {},
   "outputs": [],
   "source": [
    "from google.cloud import bigquery"
   ]
  }
 ],
 "metadata": {
  "kernelspec": {
   "display_name": ".venv",
   "language": "python",
   "name": "python3"
  },
  "language_info": {
   "codemirror_mode": {
    "name": "ipython",
    "version": 3
   },
   "file_extension": ".py",
   "mimetype": "text/x-python",
   "name": "python",
   "nbconvert_exporter": "python",
   "pygments_lexer": "ipython3",
   "version": "3.8.5"
  },
  "orig_nbformat": 4
 },
 "nbformat": 4,
 "nbformat_minor": 2
}
